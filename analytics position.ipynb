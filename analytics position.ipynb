{
 "cells": [
  {
   "cell_type": "code",
   "execution_count": 1,
   "id": "b3127111",
   "metadata": {},
   "outputs": [
    {
     "name": "stderr",
     "output_type": "stream",
     "text": [
      "C:\\ProgramData\\Anaconda3\\lib\\site-packages\\scipy\\__init__.py:138: UserWarning: A NumPy version >=1.16.5 and <1.23.0 is required for this version of SciPy (detected version 1.24.3)\n",
      "  warnings.warn(f\"A NumPy version >={np_minversion} and <{np_maxversion} is required for this version of \"\n"
     ]
    }
   ],
   "source": [
    "import numpy as np\n",
    "import pandas as pd\n",
    "import matplotlib.pyplot as plt\n",
    "import seaborn as sns\n"
   ]
  },
  {
   "cell_type": "code",
   "execution_count": 16,
   "id": "cd65273f",
   "metadata": {},
   "outputs": [],
   "source": [
    "from datetime import datetime"
   ]
  },
  {
   "cell_type": "code",
   "execution_count": 2,
   "id": "0a1c1c02",
   "metadata": {},
   "outputs": [],
   "source": [
    "deposit_df=pd.read_excel(\"C:\\\\Users\\\\Asus\\\\Contacts\\\\Vindiata Consulting\\\\depositdata.xlsx\")"
   ]
  },
  {
   "cell_type": "code",
   "execution_count": 3,
   "id": "3bb1c510",
   "metadata": {},
   "outputs": [
    {
     "data": {
      "text/html": [
       "<div>\n",
       "<style scoped>\n",
       "    .dataframe tbody tr th:only-of-type {\n",
       "        vertical-align: middle;\n",
       "    }\n",
       "\n",
       "    .dataframe tbody tr th {\n",
       "        vertical-align: top;\n",
       "    }\n",
       "\n",
       "    .dataframe thead th {\n",
       "        text-align: right;\n",
       "    }\n",
       "</style>\n",
       "<table border=\"1\" class=\"dataframe\">\n",
       "  <thead>\n",
       "    <tr style=\"text-align: right;\">\n",
       "      <th></th>\n",
       "      <th>User Id</th>\n",
       "      <th>Datetime</th>\n",
       "      <th>Amount</th>\n",
       "    </tr>\n",
       "  </thead>\n",
       "  <tbody>\n",
       "    <tr>\n",
       "      <th>0</th>\n",
       "      <td>357</td>\n",
       "      <td>2022-01-10 00:03:00</td>\n",
       "      <td>2000</td>\n",
       "    </tr>\n",
       "    <tr>\n",
       "      <th>1</th>\n",
       "      <td>776</td>\n",
       "      <td>2022-01-10 00:03:00</td>\n",
       "      <td>2500</td>\n",
       "    </tr>\n",
       "    <tr>\n",
       "      <th>2</th>\n",
       "      <td>492</td>\n",
       "      <td>2022-01-10 00:06:00</td>\n",
       "      <td>5000</td>\n",
       "    </tr>\n",
       "    <tr>\n",
       "      <th>3</th>\n",
       "      <td>803</td>\n",
       "      <td>2022-01-10 00:07:00</td>\n",
       "      <td>5000</td>\n",
       "    </tr>\n",
       "    <tr>\n",
       "      <th>4</th>\n",
       "      <td>875</td>\n",
       "      <td>2022-01-10 00:09:00</td>\n",
       "      <td>1500</td>\n",
       "    </tr>\n",
       "  </tbody>\n",
       "</table>\n",
       "</div>"
      ],
      "text/plain": [
       "   User Id             Datetime  Amount\n",
       "0      357  2022-01-10 00:03:00    2000\n",
       "1      776  2022-01-10 00:03:00    2500\n",
       "2      492  2022-01-10 00:06:00    5000\n",
       "3      803  2022-01-10 00:07:00    5000\n",
       "4      875  2022-01-10 00:09:00    1500"
      ]
     },
     "execution_count": 3,
     "metadata": {},
     "output_type": "execute_result"
    }
   ],
   "source": [
    "deposit_df.head(5)"
   ]
  },
  {
   "cell_type": "code",
   "execution_count": 11,
   "id": "32c2dd1b",
   "metadata": {},
   "outputs": [
    {
     "data": {
      "text/html": [
       "<div>\n",
       "<style scoped>\n",
       "    .dataframe tbody tr th:only-of-type {\n",
       "        vertical-align: middle;\n",
       "    }\n",
       "\n",
       "    .dataframe tbody tr th {\n",
       "        vertical-align: top;\n",
       "    }\n",
       "\n",
       "    .dataframe thead th {\n",
       "        text-align: right;\n",
       "    }\n",
       "</style>\n",
       "<table border=\"1\" class=\"dataframe\">\n",
       "  <thead>\n",
       "    <tr style=\"text-align: right;\">\n",
       "      <th></th>\n",
       "      <th>User Id</th>\n",
       "      <th>Datetime</th>\n",
       "      <th>Amount</th>\n",
       "    </tr>\n",
       "  </thead>\n",
       "  <tbody>\n",
       "    <tr>\n",
       "      <th>0</th>\n",
       "      <td>357</td>\n",
       "      <td>2022-01-10 00:03:00</td>\n",
       "      <td>2000</td>\n",
       "    </tr>\n",
       "    <tr>\n",
       "      <th>1</th>\n",
       "      <td>776</td>\n",
       "      <td>2022-01-10 00:03:00</td>\n",
       "      <td>2500</td>\n",
       "    </tr>\n",
       "    <tr>\n",
       "      <th>2</th>\n",
       "      <td>492</td>\n",
       "      <td>2022-01-10 00:06:00</td>\n",
       "      <td>5000</td>\n",
       "    </tr>\n",
       "    <tr>\n",
       "      <th>3</th>\n",
       "      <td>803</td>\n",
       "      <td>2022-01-10 00:07:00</td>\n",
       "      <td>5000</td>\n",
       "    </tr>\n",
       "    <tr>\n",
       "      <th>4</th>\n",
       "      <td>875</td>\n",
       "      <td>2022-01-10 00:09:00</td>\n",
       "      <td>1500</td>\n",
       "    </tr>\n",
       "    <tr>\n",
       "      <th>...</th>\n",
       "      <td>...</td>\n",
       "      <td>...</td>\n",
       "      <td>...</td>\n",
       "    </tr>\n",
       "    <tr>\n",
       "      <th>17433</th>\n",
       "      <td>654</td>\n",
       "      <td>31-10-2022 23:57</td>\n",
       "      <td>1200</td>\n",
       "    </tr>\n",
       "    <tr>\n",
       "      <th>17434</th>\n",
       "      <td>980</td>\n",
       "      <td>31-10-2022 23:58</td>\n",
       "      <td>200</td>\n",
       "    </tr>\n",
       "    <tr>\n",
       "      <th>17435</th>\n",
       "      <td>2</td>\n",
       "      <td>31-10-2022 23:58</td>\n",
       "      <td>40000</td>\n",
       "    </tr>\n",
       "    <tr>\n",
       "      <th>17436</th>\n",
       "      <td>612</td>\n",
       "      <td>31-10-2022 23:58</td>\n",
       "      <td>2800</td>\n",
       "    </tr>\n",
       "    <tr>\n",
       "      <th>17437</th>\n",
       "      <td>786</td>\n",
       "      <td>31-10-2022 23:59</td>\n",
       "      <td>20000</td>\n",
       "    </tr>\n",
       "  </tbody>\n",
       "</table>\n",
       "<p>17438 rows × 3 columns</p>\n",
       "</div>"
      ],
      "text/plain": [
       "       User Id             Datetime  Amount\n",
       "0          357  2022-01-10 00:03:00    2000\n",
       "1          776  2022-01-10 00:03:00    2500\n",
       "2          492  2022-01-10 00:06:00    5000\n",
       "3          803  2022-01-10 00:07:00    5000\n",
       "4          875  2022-01-10 00:09:00    1500\n",
       "...        ...                  ...     ...\n",
       "17433      654     31-10-2022 23:57    1200\n",
       "17434      980     31-10-2022 23:58     200\n",
       "17435        2     31-10-2022 23:58   40000\n",
       "17436      612     31-10-2022 23:58    2800\n",
       "17437      786     31-10-2022 23:59   20000\n",
       "\n",
       "[17438 rows x 3 columns]"
      ]
     },
     "execution_count": 11,
     "metadata": {},
     "output_type": "execute_result"
    }
   ],
   "source": [
    "deposit_df"
   ]
  },
  {
   "cell_type": "code",
   "execution_count": 4,
   "id": "eaee4d76",
   "metadata": {},
   "outputs": [],
   "source": [
    "withdrawal_df = pd.read_excel(\"C:\\\\Users\\\\Asus\\\\Contacts\\\\Vindiata Consulting\\\\withdrawaldata.xlsx\")"
   ]
  },
  {
   "cell_type": "code",
   "execution_count": 5,
   "id": "be96cba8",
   "metadata": {},
   "outputs": [
    {
     "data": {
      "text/html": [
       "<div>\n",
       "<style scoped>\n",
       "    .dataframe tbody tr th:only-of-type {\n",
       "        vertical-align: middle;\n",
       "    }\n",
       "\n",
       "    .dataframe tbody tr th {\n",
       "        vertical-align: top;\n",
       "    }\n",
       "\n",
       "    .dataframe thead th {\n",
       "        text-align: right;\n",
       "    }\n",
       "</style>\n",
       "<table border=\"1\" class=\"dataframe\">\n",
       "  <thead>\n",
       "    <tr style=\"text-align: right;\">\n",
       "      <th></th>\n",
       "      <th>User Id</th>\n",
       "      <th>Datetime</th>\n",
       "      <th>Amount</th>\n",
       "    </tr>\n",
       "  </thead>\n",
       "  <tbody>\n",
       "    <tr>\n",
       "      <th>0</th>\n",
       "      <td>190</td>\n",
       "      <td>2022-01-10 00:03:00</td>\n",
       "      <td>5872</td>\n",
       "    </tr>\n",
       "    <tr>\n",
       "      <th>1</th>\n",
       "      <td>159</td>\n",
       "      <td>2022-01-10 00:16:00</td>\n",
       "      <td>9540</td>\n",
       "    </tr>\n",
       "    <tr>\n",
       "      <th>2</th>\n",
       "      <td>164</td>\n",
       "      <td>2022-01-10 00:24:00</td>\n",
       "      <td>815</td>\n",
       "    </tr>\n",
       "    <tr>\n",
       "      <th>3</th>\n",
       "      <td>946</td>\n",
       "      <td>2022-01-10 00:29:00</td>\n",
       "      <td>23000</td>\n",
       "    </tr>\n",
       "    <tr>\n",
       "      <th>4</th>\n",
       "      <td>763</td>\n",
       "      <td>2022-01-10 00:40:00</td>\n",
       "      <td>9473</td>\n",
       "    </tr>\n",
       "  </tbody>\n",
       "</table>\n",
       "</div>"
      ],
      "text/plain": [
       "   User Id             Datetime  Amount\n",
       "0      190  2022-01-10 00:03:00    5872\n",
       "1      159  2022-01-10 00:16:00    9540\n",
       "2      164  2022-01-10 00:24:00     815\n",
       "3      946  2022-01-10 00:29:00   23000\n",
       "4      763  2022-01-10 00:40:00    9473"
      ]
     },
     "execution_count": 5,
     "metadata": {},
     "output_type": "execute_result"
    }
   ],
   "source": [
    "withdrawal_df.head(5)"
   ]
  },
  {
   "cell_type": "code",
   "execution_count": 6,
   "id": "a1678828",
   "metadata": {},
   "outputs": [],
   "source": [
    "games_df=pd.read_excel(\"C:\\\\Users\\\\Asus\\\\Contacts\\\\Vindiata Consulting\\\\gameplaydata.xlsx\")"
   ]
  },
  {
   "cell_type": "code",
   "execution_count": 7,
   "id": "b508a7d0",
   "metadata": {},
   "outputs": [
    {
     "data": {
      "text/html": [
       "<div>\n",
       "<style scoped>\n",
       "    .dataframe tbody tr th:only-of-type {\n",
       "        vertical-align: middle;\n",
       "    }\n",
       "\n",
       "    .dataframe tbody tr th {\n",
       "        vertical-align: top;\n",
       "    }\n",
       "\n",
       "    .dataframe thead th {\n",
       "        text-align: right;\n",
       "    }\n",
       "</style>\n",
       "<table border=\"1\" class=\"dataframe\">\n",
       "  <thead>\n",
       "    <tr style=\"text-align: right;\">\n",
       "      <th></th>\n",
       "      <th>User ID</th>\n",
       "      <th>Games Played</th>\n",
       "      <th>Datetime</th>\n",
       "    </tr>\n",
       "  </thead>\n",
       "  <tbody>\n",
       "    <tr>\n",
       "      <th>0</th>\n",
       "      <td>851</td>\n",
       "      <td>1</td>\n",
       "      <td>2022-01-10 00:00:00</td>\n",
       "    </tr>\n",
       "    <tr>\n",
       "      <th>1</th>\n",
       "      <td>717</td>\n",
       "      <td>1</td>\n",
       "      <td>2022-01-10 00:00:00</td>\n",
       "    </tr>\n",
       "    <tr>\n",
       "      <th>2</th>\n",
       "      <td>456</td>\n",
       "      <td>1</td>\n",
       "      <td>2022-01-10 00:00:00</td>\n",
       "    </tr>\n",
       "    <tr>\n",
       "      <th>3</th>\n",
       "      <td>424</td>\n",
       "      <td>1</td>\n",
       "      <td>2022-01-10 00:00:00</td>\n",
       "    </tr>\n",
       "    <tr>\n",
       "      <th>4</th>\n",
       "      <td>845</td>\n",
       "      <td>1</td>\n",
       "      <td>2022-01-10 00:00:00</td>\n",
       "    </tr>\n",
       "  </tbody>\n",
       "</table>\n",
       "</div>"
      ],
      "text/plain": [
       "   User ID  Games Played             Datetime\n",
       "0      851             1  2022-01-10 00:00:00\n",
       "1      717             1  2022-01-10 00:00:00\n",
       "2      456             1  2022-01-10 00:00:00\n",
       "3      424             1  2022-01-10 00:00:00\n",
       "4      845             1  2022-01-10 00:00:00"
      ]
     },
     "execution_count": 7,
     "metadata": {},
     "output_type": "execute_result"
    }
   ],
   "source": [
    "games_df.head(5)"
   ]
  },
  {
   "cell_type": "code",
   "execution_count": 18,
   "id": "020328b2",
   "metadata": {},
   "outputs": [],
   "source": [
    "games_df['Datetime'] = pd.to_datetime(games_df['Datetime'])\n"
   ]
  },
  {
   "cell_type": "code",
   "execution_count": 19,
   "id": "71811d0b",
   "metadata": {},
   "outputs": [],
   "source": [
    "withdrawal_df['Datetime'] = pd.to_datetime(withdrawal_df['Datetime'])\n",
    "deposit_df['Datetime'] = pd.to_datetime(deposit_df['Datetime'])"
   ]
  },
  {
   "cell_type": "code",
   "execution_count": 20,
   "id": "3112936f",
   "metadata": {},
   "outputs": [
    {
     "data": {
      "text/html": [
       "<div>\n",
       "<style scoped>\n",
       "    .dataframe tbody tr th:only-of-type {\n",
       "        vertical-align: middle;\n",
       "    }\n",
       "\n",
       "    .dataframe tbody tr th {\n",
       "        vertical-align: top;\n",
       "    }\n",
       "\n",
       "    .dataframe thead th {\n",
       "        text-align: right;\n",
       "    }\n",
       "</style>\n",
       "<table border=\"1\" class=\"dataframe\">\n",
       "  <thead>\n",
       "    <tr style=\"text-align: right;\">\n",
       "      <th></th>\n",
       "      <th>User Id</th>\n",
       "      <th>Datetime</th>\n",
       "      <th>Amount</th>\n",
       "    </tr>\n",
       "  </thead>\n",
       "  <tbody>\n",
       "    <tr>\n",
       "      <th>0</th>\n",
       "      <td>190</td>\n",
       "      <td>2022-01-10 00:03:00</td>\n",
       "      <td>5872</td>\n",
       "    </tr>\n",
       "    <tr>\n",
       "      <th>1</th>\n",
       "      <td>159</td>\n",
       "      <td>2022-01-10 00:16:00</td>\n",
       "      <td>9540</td>\n",
       "    </tr>\n",
       "    <tr>\n",
       "      <th>2</th>\n",
       "      <td>164</td>\n",
       "      <td>2022-01-10 00:24:00</td>\n",
       "      <td>815</td>\n",
       "    </tr>\n",
       "    <tr>\n",
       "      <th>3</th>\n",
       "      <td>946</td>\n",
       "      <td>2022-01-10 00:29:00</td>\n",
       "      <td>23000</td>\n",
       "    </tr>\n",
       "    <tr>\n",
       "      <th>4</th>\n",
       "      <td>763</td>\n",
       "      <td>2022-01-10 00:40:00</td>\n",
       "      <td>9473</td>\n",
       "    </tr>\n",
       "    <tr>\n",
       "      <th>...</th>\n",
       "      <td>...</td>\n",
       "      <td>...</td>\n",
       "      <td>...</td>\n",
       "    </tr>\n",
       "    <tr>\n",
       "      <th>3561</th>\n",
       "      <td>559</td>\n",
       "      <td>2022-10-31 23:27:00</td>\n",
       "      <td>5000</td>\n",
       "    </tr>\n",
       "    <tr>\n",
       "      <th>3562</th>\n",
       "      <td>407</td>\n",
       "      <td>2022-10-31 23:51:00</td>\n",
       "      <td>3000</td>\n",
       "    </tr>\n",
       "    <tr>\n",
       "      <th>3563</th>\n",
       "      <td>389</td>\n",
       "      <td>2022-10-31 23:56:00</td>\n",
       "      <td>14481</td>\n",
       "    </tr>\n",
       "    <tr>\n",
       "      <th>3564</th>\n",
       "      <td>11</td>\n",
       "      <td>2022-10-31 23:57:00</td>\n",
       "      <td>4000</td>\n",
       "    </tr>\n",
       "    <tr>\n",
       "      <th>3565</th>\n",
       "      <td>112</td>\n",
       "      <td>2022-10-31 23:58:00</td>\n",
       "      <td>1604</td>\n",
       "    </tr>\n",
       "  </tbody>\n",
       "</table>\n",
       "<p>3566 rows × 3 columns</p>\n",
       "</div>"
      ],
      "text/plain": [
       "      User Id            Datetime  Amount\n",
       "0         190 2022-01-10 00:03:00    5872\n",
       "1         159 2022-01-10 00:16:00    9540\n",
       "2         164 2022-01-10 00:24:00     815\n",
       "3         946 2022-01-10 00:29:00   23000\n",
       "4         763 2022-01-10 00:40:00    9473\n",
       "...       ...                 ...     ...\n",
       "3561      559 2022-10-31 23:27:00    5000\n",
       "3562      407 2022-10-31 23:51:00    3000\n",
       "3563      389 2022-10-31 23:56:00   14481\n",
       "3564       11 2022-10-31 23:57:00    4000\n",
       "3565      112 2022-10-31 23:58:00    1604\n",
       "\n",
       "[3566 rows x 3 columns]"
      ]
     },
     "execution_count": 20,
     "metadata": {},
     "output_type": "execute_result"
    }
   ],
   "source": [
    "withdrawal_df"
   ]
  },
  {
   "cell_type": "code",
   "execution_count": 21,
   "id": "dadc2dad",
   "metadata": {},
   "outputs": [
    {
     "data": {
      "text/html": [
       "<div>\n",
       "<style scoped>\n",
       "    .dataframe tbody tr th:only-of-type {\n",
       "        vertical-align: middle;\n",
       "    }\n",
       "\n",
       "    .dataframe tbody tr th {\n",
       "        vertical-align: top;\n",
       "    }\n",
       "\n",
       "    .dataframe thead th {\n",
       "        text-align: right;\n",
       "    }\n",
       "</style>\n",
       "<table border=\"1\" class=\"dataframe\">\n",
       "  <thead>\n",
       "    <tr style=\"text-align: right;\">\n",
       "      <th></th>\n",
       "      <th>User Id</th>\n",
       "      <th>Datetime</th>\n",
       "      <th>Amount</th>\n",
       "    </tr>\n",
       "  </thead>\n",
       "  <tbody>\n",
       "    <tr>\n",
       "      <th>0</th>\n",
       "      <td>357</td>\n",
       "      <td>2022-01-10 00:03:00</td>\n",
       "      <td>2000</td>\n",
       "    </tr>\n",
       "    <tr>\n",
       "      <th>1</th>\n",
       "      <td>776</td>\n",
       "      <td>2022-01-10 00:03:00</td>\n",
       "      <td>2500</td>\n",
       "    </tr>\n",
       "    <tr>\n",
       "      <th>2</th>\n",
       "      <td>492</td>\n",
       "      <td>2022-01-10 00:06:00</td>\n",
       "      <td>5000</td>\n",
       "    </tr>\n",
       "    <tr>\n",
       "      <th>3</th>\n",
       "      <td>803</td>\n",
       "      <td>2022-01-10 00:07:00</td>\n",
       "      <td>5000</td>\n",
       "    </tr>\n",
       "    <tr>\n",
       "      <th>4</th>\n",
       "      <td>875</td>\n",
       "      <td>2022-01-10 00:09:00</td>\n",
       "      <td>1500</td>\n",
       "    </tr>\n",
       "    <tr>\n",
       "      <th>...</th>\n",
       "      <td>...</td>\n",
       "      <td>...</td>\n",
       "      <td>...</td>\n",
       "    </tr>\n",
       "    <tr>\n",
       "      <th>17433</th>\n",
       "      <td>654</td>\n",
       "      <td>2022-10-31 23:57:00</td>\n",
       "      <td>1200</td>\n",
       "    </tr>\n",
       "    <tr>\n",
       "      <th>17434</th>\n",
       "      <td>980</td>\n",
       "      <td>2022-10-31 23:58:00</td>\n",
       "      <td>200</td>\n",
       "    </tr>\n",
       "    <tr>\n",
       "      <th>17435</th>\n",
       "      <td>2</td>\n",
       "      <td>2022-10-31 23:58:00</td>\n",
       "      <td>40000</td>\n",
       "    </tr>\n",
       "    <tr>\n",
       "      <th>17436</th>\n",
       "      <td>612</td>\n",
       "      <td>2022-10-31 23:58:00</td>\n",
       "      <td>2800</td>\n",
       "    </tr>\n",
       "    <tr>\n",
       "      <th>17437</th>\n",
       "      <td>786</td>\n",
       "      <td>2022-10-31 23:59:00</td>\n",
       "      <td>20000</td>\n",
       "    </tr>\n",
       "  </tbody>\n",
       "</table>\n",
       "<p>17438 rows × 3 columns</p>\n",
       "</div>"
      ],
      "text/plain": [
       "       User Id            Datetime  Amount\n",
       "0          357 2022-01-10 00:03:00    2000\n",
       "1          776 2022-01-10 00:03:00    2500\n",
       "2          492 2022-01-10 00:06:00    5000\n",
       "3          803 2022-01-10 00:07:00    5000\n",
       "4          875 2022-01-10 00:09:00    1500\n",
       "...        ...                 ...     ...\n",
       "17433      654 2022-10-31 23:57:00    1200\n",
       "17434      980 2022-10-31 23:58:00     200\n",
       "17435        2 2022-10-31 23:58:00   40000\n",
       "17436      612 2022-10-31 23:58:00    2800\n",
       "17437      786 2022-10-31 23:59:00   20000\n",
       "\n",
       "[17438 rows x 3 columns]"
      ]
     },
     "execution_count": 21,
     "metadata": {},
     "output_type": "execute_result"
    }
   ],
   "source": [
    "deposit_df"
   ]
  },
  {
   "cell_type": "code",
   "execution_count": 22,
   "id": "070f6cda",
   "metadata": {},
   "outputs": [],
   "source": [
    "deposit_df['Datetime'] = pd.to_datetime(deposit_df['Datetime'], format='%Y-%m-%d %H:%M:%S')\n",
    "withdrawal_df['Datetime'] = pd.to_datetime(withdrawal_df['Datetime'], format='%Y-%m-%d %H:%M:%S')\n",
    "games_df['Datetime'] = pd.to_datetime(games_df['Datetime'], format='%Y-%m-%d %H:%M:%S')"
   ]
  },
  {
   "cell_type": "code",
   "execution_count": 23,
   "id": "06c0c7d4",
   "metadata": {},
   "outputs": [],
   "source": [
    "# Function to filter data by slot\n",
    "def get_slot_data(df, date, slot):\n",
    "    \"\"\"Filters data for a given date and slot.\"\"\"\n",
    "    if slot == 'S1':\n",
    "        start, end = datetime(date.year, date.month, date.day, 0, 0), datetime(date.year, date.month, date.day, 11, 59)\n",
    "    else:  # Slot S2\n",
    "        start, end = datetime(date.year, date.month, date.day, 12, 0), datetime(date.year, date.month, date.day, 23, 59)\n",
    "    \n",
    "    return df[(df['Datetime'] >= start) & (df['Datetime'] <= end)]\n"
   ]
  },
  {
   "cell_type": "code",
   "execution_count": 24,
   "id": "f62baa62",
   "metadata": {},
   "outputs": [],
   "source": [
    "# Function to calculate loyalty points\n",
    "def calculate_loyalty_points(user_id, games_played, deposit_amount, withdrawal_amount, deposit_count, withdrawal_count):\n",
    "    points = (0.01 * deposit_amount) + \\\n",
    "             (0.005 * withdrawal_amount) + \\\n",
    "             (0.001 * max(deposit_count - withdrawal_count, 0)) + \\\n",
    "             (0.2 * games_played)\n",
    "    return points"
   ]
  },
  {
   "cell_type": "markdown",
   "id": "ebe02f0d",
   "metadata": {},
   "source": [
    "## 1. Player-wise loyalty points for specified slots"
   ]
  },
  {
   "cell_type": "code",
   "execution_count": 33,
   "id": "59f3aa2e",
   "metadata": {},
   "outputs": [],
   "source": [
    "# 1. Player-wise loyalty points for specified slots\n",
    "slot_dates = [('02-10-2022', 'S1'), ('16-10-2022', 'S2'), ('18-10-2022', 'S1'), ('26-10-2022', 'S2')]\n",
    "results = []"
   ]
  },
  {
   "cell_type": "code",
   "execution_count": 34,
   "id": "41da75aa",
   "metadata": {},
   "outputs": [],
   "source": [
    "for date_str, slot in slot_dates:\n",
    "    date = datetime.strptime(date_str, '%d-%m-%Y')\n",
    "    # Filter data for slot\n",
    "    games_slot = get_slot_data(games_df, date, slot)\n",
    "   \n",
    "    deposits_slot = get_slot_data(deposit_df, date, slot)\n",
    "    withdrawals_slot = get_slot_data(withdrawal_df, date, slot)\n",
    "    # Calculate points for each player in slot\n",
    "    for user_id in set(games_slot['User ID']).union(deposits_slot['User Id'], withdrawals_slot['User Id']):\n",
    "        games_played = games_slot[games_slot['User ID'] == user_id]['Games Played'].sum()\n",
    "        deposit_amount = deposits_slot[deposits_slot['User Id'] == user_id]['Amount'].sum()\n",
    "        withdrawal_amount = withdrawals_slot[withdrawals_slot['User Id'] == user_id]['Amount'].sum()\n",
    "        deposit_count = deposits_slot[deposits_slot['User Id'] == user_id].shape[0]\n",
    "        withdrawal_count = withdrawals_slot[withdrawals_slot['User Id'] == user_id].shape[0]\n",
    "        # Calculate loyalty points\n",
    "        points = calculate_loyalty_points(user_id, games_played, deposit_amount, withdrawal_amount, deposit_count, withdrawal_count)\n",
    "        \n",
    "        results.append({'User Id': user_id, 'Date': date_str, 'Slot': slot, 'Loyalty Points': points})"
   ]
  },
  {
   "cell_type": "code",
   "execution_count": 35,
   "id": "5f68abb1",
   "metadata": {},
   "outputs": [
    {
     "name": "stdout",
     "output_type": "stream",
     "text": [
      "Loyalty Points for specified slots:\n",
      "       User Id        Date Slot  Loyalty Points\n",
      "0           2  16-10-2022   S2           0.400\n",
      "1           5  16-10-2022   S2          11.802\n",
      "2           6  16-10-2022   S2           0.200\n",
      "3           8  16-10-2022   S2           1.000\n",
      "4           9  16-10-2022   S2          30.201\n",
      "...       ...         ...  ...             ...\n",
      "1839      992  26-10-2022   S2         158.800\n",
      "1840      995  26-10-2022   S2           0.200\n",
      "1841      996  26-10-2022   S2           0.800\n",
      "1842      997  26-10-2022   S2           0.400\n",
      "1843      999  26-10-2022   S2           0.200\n",
      "\n",
      "[1844 rows x 4 columns]\n"
     ]
    }
   ],
   "source": [
    "# Convert results to DataFrame\n",
    "results_df = pd.DataFrame(results)\n",
    "print(\"Loyalty Points for specified slots:\\n\", results_df)"
   ]
  },
  {
   "cell_type": "markdown",
   "id": "2cfc1bbe",
   "metadata": {},
   "source": [
    "## Calculate overall loyalty points earned and rank players on the basis of loyalty points in the month of October. \n",
    "   "
   ]
  },
  {
   "cell_type": "code",
   "execution_count": 36,
   "id": "81365c84",
   "metadata": {},
   "outputs": [],
   "source": [
    "# Aggregate data for each user for the entire month of October\n",
    "october_start = datetime(2022, 10, 1)\n",
    "october_end = datetime(2022, 10, 31, 23, 59)"
   ]
  },
  {
   "cell_type": "code",
   "execution_count": 37,
   "id": "f5bdc87a",
   "metadata": {},
   "outputs": [],
   "source": [
    "# Filter the data for October only\n",
    "games_october = games_df[(games_df['Datetime'] >= october_start) & (games_df['Datetime'] <= october_end)]\n",
    "deposits_october = deposit_df[(deposit_df['Datetime'] >= october_start) & (deposit_df['Datetime'] <= october_end)]\n",
    "withdrawals_october = withdrawal_df[(withdrawal_df['Datetime'] >= october_start) & (withdrawal_df['Datetime'] <= october_end)]"
   ]
  },
  {
   "cell_type": "code",
   "execution_count": 38,
   "id": "4e3c96df",
   "metadata": {},
   "outputs": [],
   "source": [
    "# Initialize a dictionary to store loyalty points and games played for each user\n",
    "user_points = {}\n"
   ]
  },
  {
   "cell_type": "code",
   "execution_count": 43,
   "id": "5146f139",
   "metadata": {},
   "outputs": [],
   "source": [
    "# Calculate loyalty points for each unique user in the data\n",
    "for user_id in set(games_october['User ID']).union(deposits_october['User Id'], withdrawals_october['User Id']):\n",
    "    # Get total games played, deposit, and withdrawal amounts for each user\n",
    "    games_played = games_october[games_october['User ID'] == user_id]['Games Played'].sum()\n",
    "    deposit_amount = deposits_october[deposits_october['User Id'] == user_id]['Amount'].sum()\n",
    "    withdrawal_amount = withdrawals_october[withdrawals_october['User Id'] == user_id]['Amount'].sum()\n",
    "    deposit_count = deposits_october[deposits_october['User Id'] == user_id].shape[0]\n",
    "    withdrawal_count = withdrawals_october[withdrawals_october['User Id'] == user_id].shape[0]\n",
    "    \n",
    "    # Calculate loyalty points\n",
    "    points = calculate_loyalty_points(user_id, games_played, deposit_amount, withdrawal_amount, deposit_count, withdrawal_count)\n",
    "    \n",
    "    # Store the results in a dictionary\n",
    "    user_points[user_id] = {\n",
    "        'Loyalty Points': points,\n",
    "        'Games Played': games_played\n",
    "    }"
   ]
  },
  {
   "cell_type": "code",
   "execution_count": 44,
   "id": "97960294",
   "metadata": {},
   "outputs": [
    {
     "name": "stdout",
     "output_type": "stream",
     "text": [
      "Ranked Users by Loyalty Points for October:\n",
      "      User_Id  Loyalty Points  Games Played\n",
      "0        634       61121.160            22\n",
      "1        714       14790.824             4\n",
      "2        212       13947.217             0\n",
      "3        672       13238.624             8\n",
      "4         99       12469.948             4\n",
      "..       ...             ...           ...\n",
      "991       49           0.200             1\n",
      "992      388           0.200             1\n",
      "993      507           0.200             1\n",
      "994      546           0.200             1\n",
      "995      771           0.200             1\n",
      "\n",
      "[996 rows x 3 columns]\n"
     ]
    }
   ],
   "source": [
    "user_points_df = pd.DataFrame.from_dict(user_points, orient='index').reset_index()\n",
    "user_points_df.rename(columns={'index': 'User_Id'}, inplace=True)\n",
    "\n",
    "# Rank users by loyalty points and, in case of a tie, by the number of games played\n",
    "user_points_df = user_points_df.sort_values(by=['Loyalty Points', 'Games Played'], ascending=[False, False]).reset_index(drop=True)\n",
    "\n",
    "# Display ranked users\n",
    "print(\"Ranked Users by Loyalty Points for October:\\n\", user_points_df)"
   ]
  },
  {
   "cell_type": "markdown",
   "id": "2f383f25",
   "metadata": {},
   "source": [
    "## 3. What is the average deposit amount?"
   ]
  },
  {
   "cell_type": "code",
   "execution_count": 45,
   "id": "3b6ed27b",
   "metadata": {},
   "outputs": [
    {
     "name": "stdout",
     "output_type": "stream",
     "text": [
      "Average Deposit Amount: 5492.185399701801\n"
     ]
    }
   ],
   "source": [
    "average_deposit_amount = deposit_df['Amount'].mean()\n",
    "\n",
    "print(\"Average Deposit Amount:\", average_deposit_amount)"
   ]
  },
  {
   "cell_type": "markdown",
   "id": "742bb208",
   "metadata": {},
   "source": [
    "## 4. What is the average deposit amount per user in a month?"
   ]
  },
  {
   "cell_type": "code",
   "execution_count": 46,
   "id": "1b5252d0",
   "metadata": {},
   "outputs": [
    {
     "name": "stdout",
     "output_type": "stream",
     "text": [
      "Average Deposit Amount Per User in the Month: 104669.64918032786\n"
     ]
    }
   ],
   "source": [
    "# Group by 'User Id' and calculate total deposit per user\n",
    "user_total_deposits = deposit_df.groupby('User Id')['Amount'].sum()\n",
    "\n",
    "# Calculate the average deposit amount per user\n",
    "average_deposit_per_user = user_total_deposits.mean()\n",
    "\n",
    "print(\"Average Deposit Amount Per User in the Month:\", average_deposit_per_user)\n"
   ]
  },
  {
   "cell_type": "markdown",
   "id": "851035cf",
   "metadata": {},
   "source": [
    "## 5. What is the average number of games played per user?"
   ]
  },
  {
   "cell_type": "code",
   "execution_count": 48,
   "id": "dc8b7637",
   "metadata": {},
   "outputs": [
    {
     "name": "stdout",
     "output_type": "stream",
     "text": [
      "Average Number of Games Played Per User: 355.267\n"
     ]
    }
   ],
   "source": [
    "# Group by 'User Id' and calculate total games played per user\n",
    "user_total_games = games_df.groupby('User ID')['Games Played'].sum()\n",
    "\n",
    "# Calculate the average number of games played per user\n",
    "average_games_per_user = user_total_games.mean()\n",
    "\n",
    "print(\"Average Number of Games Played Per User:\", average_games_per_user)\n"
   ]
  },
  {
   "cell_type": "markdown",
   "id": "ef00e92d",
   "metadata": {},
   "source": [
    "##  How much bonus should be allocated to leaderboard players?"
   ]
  },
  {
   "cell_type": "code",
   "execution_count": 54,
   "id": "415f4dc3",
   "metadata": {},
   "outputs": [
    {
     "name": "stdout",
     "output_type": "stream",
     "text": [
      "     User Id  Loyalty Points   Total Bonus\n",
      "634      634       83843.325  47772.048916\n",
      "99        99       23665.737  13484.206949\n",
      "672      672       22757.780  12966.873384\n",
      "212      212       22199.282  12648.653731\n",
      "740      740       19211.824  10946.467067\n",
      "566      566       19153.755  10913.380651\n",
      "714      714       16764.234   9551.885099\n",
      "421      421       15446.460   8801.046985\n",
      "369      369       14438.444   8226.702043\n",
      "30        30       14053.375   8007.298350\n",
      "587      587       13638.881   7771.128951\n",
      "222      222       13348.803   7605.849003\n",
      "352      352       13040.650   7430.270325\n",
      "365      365       12855.075   7324.533846\n",
      "920      920       12535.800   7142.618101\n",
      "162      162       12483.600   7112.875710\n",
      "415      415       12304.415   7010.780110\n",
      "569      569       12285.423   6999.958894\n",
      "786      786       12097.216   6892.722760\n",
      "2          2       12040.475   6860.393009\n",
      "238      238       11638.838   6631.549241\n",
      "992      992       11627.777   6625.246931\n",
      "28        28       10622.449   6052.433551\n",
      "538      538       10298.616   5867.920760\n",
      "208      208        9840.406   5606.842963\n",
      "989      989        9789.200   5577.666931\n",
      "978      978        9399.005   5355.342559\n",
      "915      915        9340.002   5321.723971\n",
      "678      678        9292.421   5294.613382\n",
      "78        78        9134.900   5204.861444\n",
      "909      909        9068.070   5166.783207\n",
      "182      182        8840.907   5037.350817\n",
      "93        93        8814.822   5022.488168\n",
      "200      200        8365.783   4766.635802\n",
      "259      259        8265.515   4709.505341\n",
      "306      306        8260.857   4706.851317\n",
      "344      344        8239.608   4694.744113\n",
      "601      601        8128.062   4631.187700\n",
      "515      515        7882.608   4491.333508\n",
      "294      294        7633.973   4349.666853\n",
      "681      681        7551.664   4302.769028\n",
      "950      950        7498.395   4272.417545\n",
      "675      675        7102.849   4047.044292\n",
      "663      663        6981.217   3977.741102\n",
      "438      438        6974.456   3973.888836\n",
      "619      619        6970.413   3971.585225\n",
      "245      245        6656.115   3792.505264\n",
      "547      547        6410.942   3652.811179\n",
      "612      612        6402.050   3647.744716\n",
      "949      949        6262.112   3568.011178\n"
     ]
    }
   ],
   "source": [
    "# Calculate loyalty points\n",
    "loyalty_points = {}\n",
    "\n",
    "# Calculate the loyalty points for each player\n",
    "for user_id in set(games_df['User ID']).union(deposit_df['User Id'], withdrawal_df['User Id']):\n",
    "    games_played = games_df[games_df['User ID'] == user_id]['Games Played'].sum()\n",
    "    deposit_amount = deposit_df[deposit_df['User Id'] == user_id]['Amount'].sum()\n",
    "    withdrawal_amount = withdrawal_df[withdrawal_df['User Id'] == user_id]['Amount'].sum()\n",
    "    \n",
    "    # Calculate the number of deposits and withdrawals\n",
    "    num_deposits = deposit_df[deposit_df['User Id'] == user_id].shape[0]\n",
    "    num_withdrawals = withdrawal_df[withdrawal_df['User Id'] == user_id].shape[0]\n",
    "    \n",
    "    # Calculate loyalty points using the provided formula\n",
    "    loyalty_points[user_id] = (\n",
    "        (0.01 * deposit_amount) +\n",
    "        (0.005 * withdrawal_amount) +\n",
    "        (0.001 * max(num_deposits - num_withdrawals, 0)) +\n",
    "        (0.2 * games_played)\n",
    "    )\n",
    "\n",
    "# Create a DataFrame for loyalty points\n",
    "loyalty_df = pd.DataFrame(loyalty_points.items(), columns=['User Id', 'Loyalty Points'])\n",
    "\n",
    "# Identify top 50 players based on loyalty points\n",
    "top_50 = loyalty_df.nlargest(50, 'Loyalty Points')\n",
    "\n",
    "# Calculate total loyalty points and total games played of top 50 players\n",
    "total_loyalty_points = top_50['Loyalty Points'].sum()\n",
    "total_games_played = games_df[games_df['User ID'].isin(top_50['User Id'])]['Games Played'].sum()\n",
    "\n",
    "# Allocate Rs 50000 bonus pool based on loyalty points and games played\n",
    "total_bonus_pool = 50000\n",
    "loyalty_weight = 0.7\n",
    "games_weight = 0.3\n",
    "\n",
    "top_50['Points Bonus'] = (top_50['Loyalty Points'] / total_loyalty_points) * total_bonus_pool * loyalty_weight\n",
    "top_50['Games Bonus'] = (top_50['Loyalty Points'] / total_games_played) * total_bonus_pool * games_weight\n",
    "\n",
    "# Calculate total bonus for each player\n",
    "top_50['Total Bonus'] = top_50['Points Bonus'] + top_50['Games Bonus']\n",
    "\n",
    "# Display the top players with their bonus allocations\n",
    "print(top_50[['User Id', 'Loyalty Points', 'Total Bonus']])"
   ]
  },
  {
   "cell_type": "markdown",
   "id": "b814a137",
   "metadata": {},
   "source": [
    "## loyalty point formula is fair or unfair?"
   ]
  },
  {
   "cell_type": "markdown",
   "id": "62887e0f",
   "metadata": {},
   "source": [
    "#### Fair Aspects of the Formula"
   ]
  },
  {
   "cell_type": "markdown",
   "id": "0798000e",
   "metadata": {},
   "source": [
    "1. Encourages Active Participation: The formula rewards players for their activity on the platform, including the number of games played, deposits made, and withdrawals. This promotes a vibrant gaming community where players are incentivized to engage regularly.\n",
    "2. Balances Different Activities:By incorporating various actions (deposits, withdrawals, and games played), the formula recognizes multiple facets of player engagement. This can help to balance the interests of different types of players, whether they are more focused on gaming or financial transactions.\n",
    "3. The points awarded per action are relatively small, meaning players must engage consistently over time to accumulate significant loyalty points. This encourages ongoing participation rather than a focus on single large transactions."
   ]
  },
  {
   "cell_type": "markdown",
   "id": "b914ff4d",
   "metadata": {},
   "source": [
    "#### Unfair Aspects of the Formula"
   ]
  },
  {
   "cell_type": "markdown",
   "id": "ca21a6a7",
   "metadata": {},
   "source": [
    "1. The current formula assigns significant weight to deposits (0.01 per unit), which can lead to situations where players with larger financial resources accumulate points more easily than those with less to invest. This might create a disparity where wealthier players can dominate the leaderboard without necessarily being more engaged.\n",
    "2. While games played are considered, the weight (0.2) may not be sufficient to balance out the influence of large deposits. Players who engage actively but do not deposit much may feel undervalued, potentially discouraging them from playing.\n",
    "3. Players could exploit the system by making large deposits without a corresponding level of engagement, allowing them to accumulate points without genuinely participating in the gaming experience.\n",
    "4. Players who might not have the means to deposit large sums may feel alienated if their engagement does not translate into competitive loyalty points. This could lead to a decrease in overall player retention.\n"
   ]
  },
  {
   "cell_type": "markdown",
   "id": "ef8ed8d9",
   "metadata": {},
   "source": [
    "Overall, while the loyalty point formula has elements that promote fairness by rewarding diverse player activities, it has significant shortcomings regarding how it values those activities. The heavy weighting on deposits can create inequities, particularly for less affluent players or those who prioritize gaming over financial transactions."
   ]
  },
  {
   "cell_type": "markdown",
   "id": "c63452af",
   "metadata": {},
   "source": [
    "### conclusion "
   ]
  },
  {
   "cell_type": "markdown",
   "id": "a6efde52",
   "metadata": {},
   "source": [
    "The formula could be considered partially **unfair** due to its current structure that favors financial investment over genuine engagement. Adjustments to balance the weight of deposits against gaming activity would create a more equitable system that promotes participation and retention across a broader range of players."
   ]
  },
  {
   "cell_type": "markdown",
   "id": "fb2a8174",
   "metadata": {},
   "source": [
    "##  Way to make the loyalty point formula more robust?\t\t"
   ]
  },
  {
   "cell_type": "markdown",
   "id": "3f89f41a",
   "metadata": {},
   "source": [
    "To make the loyalty point formula more robust, here are some adjustments that would create a more balanced and fair system for rewarding player activity and encourage genuine engagement on the platform:"
   ]
  },
  {
   "cell_type": "markdown",
   "id": "156e7879",
   "metadata": {},
   "source": [
    "**1. Rebalance Weighting of Actions**\n",
    "- **Reduce Deposit Weight:** Lower the deposit weight from 0.01 to something like 0.005. This reduces the heavy influence of deposits in point accumulation, ensuring that financial contributions are valued but not overly dominant.\n",
    "- **Increase Games Played Weight:** Increase the weight of games played from 0.2 to 0.3 or higher. This puts greater emphasis on genuine gaming engagement, rewarding players for participating in the platform’s core activity."
   ]
  },
  {
   "cell_type": "markdown",
   "id": "5d9addf7",
   "metadata": {},
   "source": [
    "**2. Add a Consistency Bonus**\n",
    "- **Introduce Points for Daily Activity Streaks:** Award bonus points for players who play games consistently over multiple consecutive days. For example, award an extra 1.5 loyalty points for each 3-day streak, encouraging ongoing engagement and helping retain users.\n",
    "- **Reward Variety:** Include points for engaging in different types of games or multiplayer modes, incentivizing players to explore more of the platform."
   ]
  },
  {
   "cell_type": "markdown",
   "id": "2dc2d78b",
   "metadata": {},
   "source": [
    "**3. Limit Points for High Deposits and Withdrawals**\n",
    "- **Introduce a Cap on Deposit Points per Month:** Place an upper limit on the loyalty points that can be earned through deposits in a single month. This prevents wealthier players from monopolizing the leaderboard simply through large deposits.\n",
    "- **Apply Diminishing Returns:** Reduce the points awarded for deposits or withdrawals above a certain threshold to encourage fairer accumulation. For instance, a deposit above ₹10,000 might earn points at 0.005 rather than 0.01."
   ]
  },
  {
   "cell_type": "markdown",
   "id": "4affbc8a",
   "metadata": {},
   "source": [
    "**4. Reward Retention and Long-Term Engagement**\n",
    "- **Create a Tiered Loyalty System:** Award bonus points for long-term players. For instance, players who remain active on the platform for over 6 months could earn a 5% boost in points for games played. This encourages loyalty beyond high spending.\n",
    "- **Recognize Low-Activity Players:** Offer small rewards or incentives to less active players, encouraging them to engage more frequently without making the leaderboard inaccessible to them."
   ]
  },
  {
   "cell_type": "markdown",
   "id": "cf7fb1df",
   "metadata": {},
   "source": [
    "**5. Account for Skill or Performance in Games**\n",
    "- **Introduce a Performance-Based Component:** Award extra points for players who perform well in games, such as scoring high or winning consistently. This way, the formula rewards not only participation but also skill, creating a more merit-based system."
   ]
  },
  {
   "cell_type": "markdown",
   "id": "7dc9d18b",
   "metadata": {},
   "source": [
    "### Revised Loyalty Formula Example"
   ]
  },
  {
   "cell_type": "markdown",
   "id": "dffaa9f9",
   "metadata": {},
   "source": [
    "Loyalty_Points = (0.005 * Deposit_Amount) + (0.003 * Withdrawal_Amount)\n",
    "\n",
    "                + (0.001 * max(#deposit - #withdrawal, 0))\n",
    "                \n",
    "                + (0.3 * Number_of_Games_Played)\n",
    "                \n",
    "                + (1.5 * Daily_Streaks) + (Bonus for Performance/Skill)\n"
   ]
  },
  {
   "cell_type": "markdown",
   "id": "626a439b",
   "metadata": {},
   "source": [
    "This revised structure would better balance different types of engagement and create a more inclusive, skill-based, and sustainable points system. The goal is to make the leaderboard attainable for a wider range of players, encouraging both financial contributions and active participation without allowing one factor to dominate the loyalty points calculation."
   ]
  },
  {
   "cell_type": "code",
   "execution_count": null,
   "id": "b65ea657",
   "metadata": {},
   "outputs": [],
   "source": []
  }
 ],
 "metadata": {
  "kernelspec": {
   "display_name": "Python 3",
   "language": "python",
   "name": "python3"
  },
  "language_info": {
   "codemirror_mode": {
    "name": "ipython",
    "version": 3
   },
   "file_extension": ".py",
   "mimetype": "text/x-python",
   "name": "python",
   "nbconvert_exporter": "python",
   "pygments_lexer": "ipython3",
   "version": "3.8.8"
  }
 },
 "nbformat": 4,
 "nbformat_minor": 5
}
